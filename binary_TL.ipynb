{
 "cells": [
  {
   "cell_type": "markdown",
   "metadata": {},
   "source": [
    "# generate data"
   ]
  },
  {
   "cell_type": "code",
   "execution_count": 1,
   "metadata": {},
   "outputs": [],
   "source": [
    "import scipy\n",
    "from scipy.special import expit, logit\n",
    "import numpy as np\n",
    "import math\n",
    "from torch import nn\n",
    "from torch.nn import functional as F\n",
    "import torch\n",
    "import copy\n",
    "from sklearn.metrics import roc_auc_score"
   ]
  },
  {
   "cell_type": "code",
   "execution_count": 2,
   "metadata": {},
   "outputs": [],
   "source": [
    "def generate_data_uniform(p, n, min_b, mean_b, meanX, sdX, train_prop = 1.0):\n",
    "    \n",
    "    # generate uniform b's\n",
    "    low = min_b\n",
    "    high = (2*mean_b) - min_b\n",
    "    b = np.random.uniform(low, high, size=(p,1))\n",
    "    # normal X's\n",
    "    X = torch.from_numpy(np.random.normal(meanX, sdX, size=(n, p))).float()\n",
    "    \n",
    "    # logistic Y's\n",
    "    Y = torch.from_numpy(np.random.binomial(1, expit( np.matmul(X,b)))).float()\n",
    "    \n",
    "    # split into training and test\n",
    "    X_train = X\n",
    "    Y_train = Y\n",
    "    X_test = None\n",
    "    Y_test = None\n",
    "    \n",
    "    if train_prop < 1.0:\n",
    "        xy = torch.cat((Y,X),axis=1)        \n",
    "        train_cutoff = int(n * train_prop)\n",
    "        train = xy[:train_cutoff,:]\n",
    "        Y_train, X_train =  train[:,0], train[:,1:]\n",
    "        \n",
    "        test = xy[train_cutoff:,:]\n",
    "        Y_test, X_test = test[:,0], test[:, 1:]\n",
    "    \n",
    "    \n",
    "    return Y_train, X_train, Y_test, X_test"
   ]
  },
  {
   "cell_type": "code",
   "execution_count": 3,
   "metadata": {},
   "outputs": [],
   "source": [
    "p = 50\n",
    "\n",
    "# source params\n",
    "n_source = 10000\n",
    "min_b_source = 0.5\n",
    "mean_b_source = 2.0\n",
    "meanX_source = 0.0\n",
    "sdX_source = 1.0\n",
    "train_prop_source = 0.80\n",
    "\n",
    "# target params\n",
    "n_target = 100\n",
    "min_b_target = 0.5\n",
    "mean_b_target = 2.0\n",
    "meanX_target = 0.0\n",
    "sdX_target = 1.0\n",
    "train_prop_target = 0.80"
   ]
  },
  {
   "cell_type": "code",
   "execution_count": 4,
   "metadata": {},
   "outputs": [],
   "source": [
    "Y_source_train, X_source_train, Y_source_test, X_source_test = generate_data_uniform(p = p,\n",
    "                                                n = n_source,\n",
    "                                                 min_b = min_b_source,\n",
    "                                                 mean_b = mean_b_source,\n",
    "                                                 meanX =meanX_source,\n",
    "                                                 sdX = sdX_source,\n",
    "                                                 train_prop = train_prop_source)\n",
    "                                                         \n",
    "    \n",
    "Y_target_train, X_target_train, Y_target_test, X_target_test = generate_data_uniform(p = p,\n",
    "                                                                n = n_target,\n",
    "                                                                 min_b = min_b_target,\n",
    "                                                                 mean_b = mean_b_target,\n",
    "                                                                 meanX =meanX_target,\n",
    "                                                                 sdX = sdX_target,\n",
    "                                                                 train_prop = train_prop_target)"
   ]
  },
  {
   "cell_type": "markdown",
   "metadata": {},
   "source": [
    "# Pytorch NN and data setup"
   ]
  },
  {
   "cell_type": "code",
   "execution_count": 5,
   "metadata": {},
   "outputs": [],
   "source": [
    "class BinaryClassification(nn.Module):\n",
    "    def __init__(self, input_shape):\n",
    "        super(BinaryClassification, self).__init__()\n",
    "        self.layer_1 = nn.Linear(input_shape, 10) \n",
    "        self.layer_out = nn.Linear(10, 1) \n",
    "\n",
    "        \n",
    "    def forward(self, inputs):\n",
    "        x = torch.relu(self.layer_1(inputs))\n",
    "        x = torch.relu(self.layer_out(x))\n",
    "        \n",
    "        return x"
   ]
  },
  {
   "cell_type": "markdown",
   "metadata": {},
   "source": [
    "# Train source model"
   ]
  },
  {
   "cell_type": "code",
   "execution_count": 6,
   "metadata": {},
   "outputs": [],
   "source": [
    "learning_rate = 0.01\n",
    "epochs = 1400\n",
    "# Model , Optimizer, Loss\n",
    "source_model = BinaryClassification(input_shape=X_source_train.shape[1])\n",
    "optimizer = torch.optim.SGD(source_model.parameters(),lr=learning_rate)\n",
    "loss_fn = nn.BCEWithLogitsLoss()"
   ]
  },
  {
   "cell_type": "code",
   "execution_count": 7,
   "metadata": {
    "scrolled": true
   },
   "outputs": [],
   "source": [
    "losses = []\n",
    "accur = []\n",
    "for i in range(epochs):\n",
    "\n",
    "    #calculate output\n",
    "    output = source_model(X_source_train)\n",
    "\n",
    "    #calculate loss\n",
    "    loss = loss_fn(output,Y_source_train.reshape(-1,1))\n",
    "\n",
    "    #backprop\n",
    "    optimizer.zero_grad()\n",
    "    loss.backward()\n",
    "    optimizer.step()\n",
    "\n",
    "    losses.append(loss)\n",
    "#     print(f\"epoch {i}\\tloss :{loss}\")\n"
   ]
  },
  {
   "cell_type": "code",
   "execution_count": 8,
   "metadata": {},
   "outputs": [
    {
     "name": "stdout",
     "output_type": "stream",
     "text": [
      "source auc:\t0.9826444826444825\n"
     ]
    }
   ],
   "source": [
    "source_roc_auc = roc_auc_score(Y_source_test, source_model(X_source_test).detach().numpy())\n",
    "print(f\"source auc:\\t{source_roc_auc}\")"
   ]
  },
  {
   "cell_type": "markdown",
   "metadata": {},
   "source": [
    "# Train target model (no transfer learning)"
   ]
  },
  {
   "cell_type": "code",
   "execution_count": 9,
   "metadata": {},
   "outputs": [],
   "source": [
    "learning_rate = 0.01\n",
    "epochs = 1400\n",
    "# Model , Optimizer, Loss\n",
    "target_model = BinaryClassification(input_shape=X_target_train.shape[1])\n",
    "optimizer = torch.optim.SGD(target_model.parameters(),lr=learning_rate)\n",
    "loss_fn = nn.BCEWithLogitsLoss()"
   ]
  },
  {
   "cell_type": "code",
   "execution_count": 10,
   "metadata": {},
   "outputs": [],
   "source": [
    "losses = []\n",
    "accur = []\n",
    "for i in range(epochs):\n",
    "\n",
    "    #calculate output\n",
    "    output = target_model(X_target_train)\n",
    "\n",
    "    #calculate loss\n",
    "    loss = loss_fn(output, Y_target_train.reshape(-1,1))\n",
    "\n",
    "    #backprop\n",
    "    optimizer.zero_grad()\n",
    "    loss.backward()\n",
    "    optimizer.step()\n",
    "\n",
    "    losses.append(loss)\n",
    "#     print(f\"epoch {i}\\tloss :{loss}\")\n"
   ]
  },
  {
   "cell_type": "code",
   "execution_count": 11,
   "metadata": {},
   "outputs": [
    {
     "name": "stdout",
     "output_type": "stream",
     "text": [
      "target auc:\t0.8131868131868132\n"
     ]
    }
   ],
   "source": [
    "target_roc_auc = roc_auc_score(Y_target_test, target_model(X_target_test).detach().numpy())\n",
    "print(f\"target auc:\\t{target_roc_auc}\")"
   ]
  },
  {
   "cell_type": "markdown",
   "metadata": {},
   "source": [
    "# Target model with Transfer Learning"
   ]
  },
  {
   "cell_type": "code",
   "execution_count": 12,
   "metadata": {},
   "outputs": [],
   "source": [
    "learning_rate = 0.01\n",
    "epochs = 1400\n",
    "# Model , Optimizer, Loss\n",
    "target_model_tl = copy.deepcopy(source_model)\n"
   ]
  },
  {
   "cell_type": "code",
   "execution_count": 13,
   "metadata": {},
   "outputs": [],
   "source": [
    "# freeze layers by so the weights do not update\n",
    "for param in target_model_tl.parameters():\n",
    "    param.requires_grad = False"
   ]
  },
  {
   "cell_type": "code",
   "execution_count": 14,
   "metadata": {},
   "outputs": [],
   "source": [
    "# reassing last layer with requires_grad=true by default\n",
    "target_model_tl.layer_out = nn.Linear(target_model_tl.layer_out.in_features, target_model_tl.layer_out.out_features)"
   ]
  },
  {
   "cell_type": "code",
   "execution_count": 15,
   "metadata": {},
   "outputs": [],
   "source": [
    "optimizer = torch.optim.SGD(target_model_tl.parameters(),lr=learning_rate)\n",
    "loss_fn = nn.BCEWithLogitsLoss()"
   ]
  },
  {
   "cell_type": "code",
   "execution_count": 16,
   "metadata": {},
   "outputs": [],
   "source": [
    "losses = []\n",
    "accur = []\n",
    "for i in range(epochs):\n",
    "\n",
    "    #calculate output\n",
    "    output = target_model_tl(X_target_train)\n",
    "\n",
    "    #calculate loss\n",
    "    loss = loss_fn(output, Y_target_train.reshape(-1,1))\n",
    "\n",
    "    #backprop\n",
    "    optimizer.zero_grad()\n",
    "    loss.backward()\n",
    "    optimizer.step()\n",
    "\n",
    "    losses.append(loss)\n",
    "#     print(f\"epoch {i}\\tloss :{loss}\")\n"
   ]
  },
  {
   "cell_type": "code",
   "execution_count": 17,
   "metadata": {},
   "outputs": [
    {
     "name": "stdout",
     "output_type": "stream",
     "text": [
      "target TL auc:\t0.8901098901098902\n"
     ]
    }
   ],
   "source": [
    "target_tl_roc_auc = roc_auc_score(Y_target_test, target_model_tl(X_target_test).detach().numpy())\n",
    "print(f\"target TL auc:\\t{target_tl_roc_auc}\")"
   ]
  }
 ],
 "metadata": {
  "kernelspec": {
   "display_name": "Python 3",
   "language": "python",
   "name": "python3"
  },
  "language_info": {
   "codemirror_mode": {
    "name": "ipython",
    "version": 3
   },
   "file_extension": ".py",
   "mimetype": "text/x-python",
   "name": "python",
   "nbconvert_exporter": "python",
   "pygments_lexer": "ipython3",
   "version": "3.8.3"
  }
 },
 "nbformat": 4,
 "nbformat_minor": 5
}
